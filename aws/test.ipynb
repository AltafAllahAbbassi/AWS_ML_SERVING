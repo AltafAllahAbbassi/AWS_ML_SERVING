{
 "cells": [
  {
   "cell_type": "code",
   "execution_count": 1,
   "metadata": {},
   "outputs": [],
   "source": [
    "from configuration import EC2_CONFIG, IAM_CONFIG, PROFILE, CODE_DEPLOY_CONFIG, IAM_CONFIG, S3_CONFIG, STS_CONFIG, CLOUD_WATCH_CONFIG\n",
    "from configuration import REGION, AVAILABILITY_ZONE\n",
    "from aws_service_utils import create_aws_service\n",
    "from ec2_utils import create_vpc, create_subnet, create_security_group, create_key_pair, \\\n",
    "    lunch_ec2_instance, wait_instances_lunch, get_subnet_ids, start_ec2_instance, stop_ec2_instance\n",
    "\n",
    "from iam_utils import get_role\n",
    "from code_deploy_utils import create_application, create_deployment, create_deployment_group\n",
    "from sts_utils import get_aws_user_account\n",
    "from s3_utils import create_bucket, put_bucket_policy, upload_server_app_to_s3_bucket"
   ]
  },
  {
   "cell_type": "code",
   "execution_count": 2,
   "metadata": {},
   "outputs": [
    {
     "name": "stdout",
     "output_type": "stream",
     "text": [
      "Service ec2 is created\n",
      "Service iam is created\n",
      "Service codedeploy is created\n",
      "Service s3 is created\n",
      "Service sts is created\n"
     ]
    }
   ],
   "source": [
    "ec2 = create_aws_service(service=EC2_CONFIG['service_name'],\n",
    "                             region=REGION\n",
    "                             )\n",
    "iam = create_aws_service(IAM_CONFIG['service_name'],\n",
    "                             region=REGION\n",
    ")\n",
    "\n",
    "code_deploy = create_aws_service(CODE_DEPLOY_CONFIG['service_name'],\n",
    "                             region=REGION\n",
    ")\n",
    "\n",
    "s3 = create_aws_service(S3_CONFIG['service_name'],\n",
    "                             region=REGION\n",
    ")\n",
    "sts = create_aws_service(STS_CONFIG['service_name'],\n",
    "                             region=REGION\n",
    ")\n"
   ]
  },
  {
   "cell_type": "code",
   "execution_count": 3,
   "metadata": {},
   "outputs": [
    {
     "name": "stdout",
     "output_type": "stream",
     "text": [
      "VPC created vpc-0e4fa9a38c1a4a62c\n",
      "security group created sg-0c0bbef9914fc0bcc\n",
      "Key pair created key_pair_lab2\n",
      "Subnet id created subnet-04e1503c9a554e75a\n"
     ]
    }
   ],
   "source": [
    "vpc_id = create_vpc(ec2, cidr_block='10.0.0.0/16')\n",
    "sec_group_id = create_security_group(ec2=ec2, vpc_id=vpc_id, group_name=EC2_CONFIG['security_group'])\n",
    "key_id = create_key_pair(ec2=ec2, key_name=EC2_CONFIG['key_pair'])\n",
    "image_id = EC2_CONFIG['ImageId']\n",
    "subnet_id = create_subnet(ec2, vpc_id, cidr_block='10.0.4.0/24', availability_zone=AVAILABILITY_ZONE)\n"
   ]
  },
  {
   "cell_type": "code",
   "execution_count": 4,
   "metadata": {},
   "outputs": [
    {
     "name": "stdout",
     "output_type": "stream",
     "text": [
      "Instance lunched i-0c2e39162e1349208\n"
     ]
    }
   ],
   "source": [
    "\n",
    "worker = lunch_ec2_instance(\n",
    "            ec2=ec2,\n",
    "            image_id=image_id,\n",
    "            instance_type=EC2_CONFIG['instance_type'],\n",
    "            key_name=EC2_CONFIG['key_pair'],\n",
    "            zone=AVAILABILITY_ZONE,\n",
    "            profile=PROFILE,\n",
    "            sec_group_ids=sec_group_id,\n",
    "            subnet_id=subnet_id, \n",
    "            tags=EC2_CONFIG['worker']['TagSpecifications']\n",
    "        )\n",
    "\n",
    "\n",
    "\n",
    "\n",
    "#worker = 'i-036b3a2eabd9a6619'"
   ]
  },
  {
   "cell_type": "code",
   "execution_count": 5,
   "metadata": {},
   "outputs": [
    {
     "name": "stdout",
     "output_type": "stream",
     "text": [
      "Started EC2 instance with ID: i-0c2e39162e1349208\n"
     ]
    }
   ],
   "source": [
    "start_ec2_instance(ec2, worker)"
   ]
  },
  {
   "cell_type": "code",
   "execution_count": null,
   "metadata": {},
   "outputs": [],
   "source": []
  },
  {
   "cell_type": "code",
   "execution_count": 6,
   "metadata": {},
   "outputs": [],
   "source": [
    "wait_instances_lunch(ec2=ec2, instances_ids=[worker])"
   ]
  },
  {
   "cell_type": "code",
   "execution_count": null,
   "metadata": {},
   "outputs": [],
   "source": [
    "role_arn = get_role(iam, IAM_CONFIG['role'])\n",
    "\n",
    "user_account = get_aws_user_account(sts)\n",
    "bucket = create_bucket(s3, S3_CONFIG['worker']['bucket'])\n",
    "put_bucket_policy(s3, S3_CONFIG['bucket_policy'], bucket, user_account, role_arn)\n",
    "upload_server_app_to_s3_bucket(s3, bucket)\n",
    "\n",
    "#bucket = \"log8415-lab2-bucket1698972750\""
   ]
  },
  {
   "cell_type": "code",
   "execution_count": 8,
   "metadata": {},
   "outputs": [
    {
     "name": "stdout",
     "output_type": "stream",
     "text": [
      "Role: arn:aws:iam::175054333530:role/LabRole\n"
     ]
    },
    {
     "name": "stdout",
     "output_type": "stream",
     "text": [
      "AWS account : 175054333530\n"
     ]
    },
    {
     "name": "stdout",
     "output_type": "stream",
     "text": [
      "S3 bucket created: lab2-worker-bucket1699243795\n",
      "Policy applied to lab2-worker-bucket1699243795\n"
     ]
    },
    {
     "name": "stdout",
     "output_type": "stream",
     "text": [
      "Flask app uploaded tolab2-worker-bucket1699243795\n",
      "Application created: 593fc06e-b677-4f00-9b13-ce0226afa12d\n"
     ]
    }
   ],
   "source": [
    "worker_app_id = create_application(code_deploy=code_deploy, application_name=CODE_DEPLOY_CONFIG['worker']['application_name'])\n",
    "#worker_app_id = '593fc06e-b677-4f00-9b13-ce0226afa12d'"
   ]
  },
  {
   "cell_type": "code",
   "execution_count": 9,
   "metadata": {},
   "outputs": [
    {
     "name": "stdout",
     "output_type": "stream",
     "text": [
      "Deploymenet group created eb0829e9-c161-4c94-ab2f-6416dc682775\n"
     ]
    },
    {
     "data": {
      "text/plain": "\"\\norchestrator_dep_group= create_deployment_group(\\n        code_deploy = code_deploy, service_role_arn=role_arn, app_name=CODE_DEPLOY_CONFIG['application_name'],\\n        dep_group_name=CODE_DEPLOY_CONFIG['group_name'], tag_filters = CODE_DEPLOY_CONFIG['tags']\\n    )\\n\""
     },
     "execution_count": 9,
     "metadata": {},
     "output_type": "execute_result"
    }
   ],
   "source": [
    "# create the deployment group\n",
    "worker_dep_group= create_deployment_group(\n",
    "        code_deploy = code_deploy, service_role_arn=role_arn, app_name=CODE_DEPLOY_CONFIG['worker']['application_name'], \n",
    "        dep_group_name=CODE_DEPLOY_CONFIG['worker']['group_name'], tag_filters = CODE_DEPLOY_CONFIG['worker']['EC2TagFilters']\n",
    "    )\n",
    "    \n",
    "'''\n",
    "orchestrator_dep_group= create_deployment_group(\n",
    "        code_deploy = code_deploy, service_role_arn=role_arn, app_name=CODE_DEPLOY_CONFIG['application_name'],\n",
    "        dep_group_name=CODE_DEPLOY_CONFIG['group_name'], tag_filters = CODE_DEPLOY_CONFIG['tags']\n",
    "    )\n",
    "'''\n"
   ]
  },
  {
   "cell_type": "code",
   "execution_count": 10,
   "metadata": {},
   "outputs": [
    {
     "name": "stdout",
     "output_type": "stream",
     "text": [
      "Application deployment launched d-GKDZQY1N2\n"
     ]
    }
   ],
   "source": [
    "#create_deployment(code_deploy, bucket, revision, deploy_group_name, app_name)\n",
    "deployment_id_worker = create_deployment(\n",
    "        code_deploy,\n",
    "        bucket,\n",
    "        'worker.zip',\n",
    "        CODE_DEPLOY_CONFIG['Revision'], \n",
    "        CODE_DEPLOY_CONFIG['worker']['group_name'],\n",
    "        CODE_DEPLOY_CONFIG['worker']['application_name']\n",
    "\n",
    "\n",
    "    )"
   ]
  }
 ],
 "metadata": {
  "kernelspec": {
   "display_name": "Python 3.9.18 64-bit ('lab2': conda)",
   "name": "python3918jvsc74a57bd05a2dca855499b711fabfe16cc6b2efb09e291ae2a9dfb6c3cfc9eef381f49426"
  },
  "language_info": {
   "name": "python",
   "version": ""
  },
  "metadata": {
   "interpreter": {
    "hash": "5a2dca855499b711fabfe16cc6b2efb09e291ae2a9dfb6c3cfc9eef381f49426"
   }
  },
  "orig_nbformat": 2
 },
 "nbformat": 4,
 "nbformat_minor": 2
}