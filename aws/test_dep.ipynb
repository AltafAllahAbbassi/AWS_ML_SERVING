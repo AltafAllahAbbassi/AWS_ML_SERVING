{
 "cells": [
  {
   "cell_type": "code",
   "execution_count": 1,
   "metadata": {},
   "outputs": [],
   "source": [
    "from configuration import EC2_CONFIG, IAM_CONFIG, PROFILE, CODE_DEPLOY_CONFIG, IAM_CONFIG, S3_CONFIG, STS_CONFIG, CLOUD_WATCH_CONFIG, ECS_CONFIG\n",
    "from configuration import REGION, AVAILABILITY_ZONE\n",
    "from aws_service_utils import create_aws_service\n",
    "from ec2_utils import create_vpc, create_subnet, create_security_group, create_key_pair, \\\n",
    "    lunch_ec2_instance, wait_instances_lunch, get_subnet_ids, start_ec2_instance, stop_ec2_instance\n",
    "\n",
    "from iam_utils import get_role\n",
    "from code_deploy_utils import create_application, create_deployment, create_deployment_group\n",
    "\n",
    "from sts_utils import get_aws_user_account\n",
    "from s3_utils import create_bucket, put_bucket_policy, upload_server_app_to_s3_bucket\n"
   ]
  },
  {
   "cell_type": "markdown",
   "metadata": {},
   "source": [
    "## ecs utils \n"
   ]
  },
  {
   "cell_type": "code",
   "execution_count": 6,
   "metadata": {},
   "outputs": [
    {
     "name": "stdout",
     "output_type": "stream",
     "text": [
      "Created ECS repository: my-ecs-repoo\n"
     ]
    },
    {
     "name": "stderr",
     "output_type": "stream",
     "text": [
      "\n",
      "usage: aws [options] <command> <subcommand> [<subcommand> ...] [parameters]\n",
      "To see help text, you can run:\n",
      "\n",
      "  aws help\n",
      "  aws <command> help\n",
      "  aws <command> <subcommand> help\n",
      "\n",
      "aws: error: the following arguments are required: command\n",
      "\n"
     ]
    },
    {
     "ename": "CalledProcessError",
     "evalue": "Command '['aws', 'ecr', 'get-login-password', '--region', 'us-east-1']' returned non-zero exit status 252.",
     "output_type": "error",
     "traceback": [
      "\u001b[0;31m---------------------------------------------------------------------------\u001b[0m",
      "\u001b[0;31mCalledProcessError\u001b[0m                        Traceback (most recent call last)",
      "Cell \u001b[0;32mIn[6], line 32\u001b[0m\n\u001b[1;32m     26\u001b[0m ecs_repository_uri \u001b[38;5;241m=\u001b[39m response[\u001b[38;5;124m'\u001b[39m\u001b[38;5;124mrepository\u001b[39m\u001b[38;5;124m'\u001b[39m][\u001b[38;5;124m'\u001b[39m\u001b[38;5;124mrepositoryUri\u001b[39m\u001b[38;5;124m'\u001b[39m]\n\u001b[1;32m     28\u001b[0m \u001b[38;5;66;03m# Build the Docker image\u001b[39;00m\n\u001b[1;32m     29\u001b[0m \u001b[38;5;66;03m#subprocess.run(['docker', 'build', '-t', image_name, '-f', dockerfile_path, '.'], check=True)\u001b[39;00m\n\u001b[1;32m     30\u001b[0m \n\u001b[1;32m     31\u001b[0m \u001b[38;5;66;03m# Authenticate Docker to the Amazon ECR registry\u001b[39;00m\n\u001b[0;32m---> 32\u001b[0m \u001b[43msubprocess\u001b[49m\u001b[38;5;241;43m.\u001b[39;49m\u001b[43mrun\u001b[49m\u001b[43m(\u001b[49m\u001b[43m[\u001b[49m\u001b[38;5;124;43m'\u001b[39;49m\u001b[38;5;124;43maws\u001b[39;49m\u001b[38;5;124;43m'\u001b[39;49m\u001b[43m,\u001b[49m\u001b[43m \u001b[49m\u001b[38;5;124;43m'\u001b[39;49m\u001b[38;5;124;43mecr\u001b[39;49m\u001b[38;5;124;43m'\u001b[39;49m\u001b[43m,\u001b[49m\u001b[43m \u001b[49m\u001b[38;5;124;43m'\u001b[39;49m\u001b[38;5;124;43mget-login-password\u001b[39;49m\u001b[38;5;124;43m'\u001b[39;49m\u001b[43m,\u001b[49m\u001b[43m \u001b[49m\u001b[38;5;124;43m'\u001b[39;49m\u001b[38;5;124;43m--region\u001b[39;49m\u001b[38;5;124;43m'\u001b[39;49m\u001b[43m,\u001b[49m\u001b[43m \u001b[49m\u001b[43mREGION\u001b[49m\u001b[43m]\u001b[49m\u001b[43m,\u001b[49m\u001b[43m \u001b[49m\u001b[43mstdout\u001b[49m\u001b[38;5;241;43m=\u001b[39;49m\u001b[43msubprocess\u001b[49m\u001b[38;5;241;43m.\u001b[39;49m\u001b[43mPIPE\u001b[49m\u001b[43m,\u001b[49m\u001b[43m \u001b[49m\u001b[43mtext\u001b[49m\u001b[38;5;241;43m=\u001b[39;49m\u001b[38;5;28;43;01mTrue\u001b[39;49;00m\u001b[43m,\u001b[49m\u001b[43m \u001b[49m\u001b[43mcheck\u001b[49m\u001b[38;5;241;43m=\u001b[39;49m\u001b[38;5;28;43;01mTrue\u001b[39;49;00m\u001b[43m,\u001b[49m\u001b[43m  \u001b[49m\u001b[43mshell\u001b[49m\u001b[38;5;241;43m=\u001b[39;49m\u001b[38;5;28;43;01mTrue\u001b[39;49;00m\u001b[43m)\u001b[49m\n\u001b[1;32m     34\u001b[0m \u001b[38;5;66;03m# Push the Docker image to the ECS repository\u001b[39;00m\n\u001b[1;32m     35\u001b[0m subprocess\u001b[38;5;241m.\u001b[39mrun([\u001b[38;5;124m'\u001b[39m\u001b[38;5;124mdocker\u001b[39m\u001b[38;5;124m'\u001b[39m, \u001b[38;5;124m'\u001b[39m\u001b[38;5;124mtag\u001b[39m\u001b[38;5;124m'\u001b[39m, image_name, ecs_repository_uri], check\u001b[38;5;241m=\u001b[39m\u001b[38;5;28;01mTrue\u001b[39;00m)\n",
      "File \u001b[0;32m~/anaconda3/envs/lab2/lib/python3.9/subprocess.py:528\u001b[0m, in \u001b[0;36mrun\u001b[0;34m(input, capture_output, timeout, check, *popenargs, **kwargs)\u001b[0m\n\u001b[1;32m    526\u001b[0m     retcode \u001b[38;5;241m=\u001b[39m process\u001b[38;5;241m.\u001b[39mpoll()\n\u001b[1;32m    527\u001b[0m     \u001b[38;5;28;01mif\u001b[39;00m check \u001b[38;5;129;01mand\u001b[39;00m retcode:\n\u001b[0;32m--> 528\u001b[0m         \u001b[38;5;28;01mraise\u001b[39;00m CalledProcessError(retcode, process\u001b[38;5;241m.\u001b[39margs,\n\u001b[1;32m    529\u001b[0m                                  output\u001b[38;5;241m=\u001b[39mstdout, stderr\u001b[38;5;241m=\u001b[39mstderr)\n\u001b[1;32m    530\u001b[0m \u001b[38;5;28;01mreturn\u001b[39;00m CompletedProcess(process\u001b[38;5;241m.\u001b[39margs, retcode, stdout, stderr)\n",
      "\u001b[0;31mCalledProcessError\u001b[0m: Command '['aws', 'ecr', 'get-login-password', '--region', 'us-east-1']' returned non-zero exit status 252."
     ]
    }
   ],
   "source": [
    "import boto3\n",
    "import base64\n",
    "\n",
    "import subprocess\n",
    "ecs_client = boto3.client('ecr', region_name=REGION)\n",
    "import botocore.exceptions\n",
    "\n",
    "# Create an ECS repository\n",
    "\n",
    "repository_name = 'my-ecs-repoo'\n",
    "\n",
    "try:\n",
    "    response = ecs_client.create_repository(repositoryName=repository_name)\n",
    "    print(f\"Created ECS repository: {repository_name}\")\n",
    "except botocore.exceptions.ClientError as e:\n",
    "    if e.response['Error']['Code'] == 'RepositoryAlreadyExistsException':\n",
    "        print(f\"ECS repository {repository_name} already exists.\")\n",
    "    else:\n",
    "        print(f\"Error creating ECS repository: {e}\")\n",
    "        exit(1)\n",
    "\n",
    "\n",
    "\n",
    "\n",
    "\n"
   ]
  },
  {
   "cell_type": "code",
   "execution_count": 13,
   "metadata": {},
   "outputs": [
    {
     "name": "stderr",
     "output_type": "stream",
     "text": [
      "WARNING! Using --password via the CLI is insecure. Use --password-stdin.\n"
     ]
    },
    {
     "name": "stdout",
     "output_type": "stream",
     "text": [
      "Login Succeeded\n"
     ]
    },
    {
     "name": "stderr",
     "output_type": "stream",
     "text": [
      "WARNING! Your password will be stored unencrypted in /home/altaf/.docker/config.json.\n",
      "Configure a credential helper to remove this warning. See\n",
      "https://docs.docker.com/engine/reference/commandline/login/#credentials-store\n",
      "\n",
      "Error response from daemon: No such image: my-ecs-repoo:latest\n"
     ]
    },
    {
     "ename": "CalledProcessError",
     "evalue": "Command '['docker', 'tag', 'my-ecs-repoo:latest', '175054333530.dkr.ecr.us-east-1.amazonaws.com/my-ecs-repoo']' returned non-zero exit status 1.",
     "output_type": "error",
     "traceback": [
      "\u001b[0;31m---------------------------------------------------------------------------\u001b[0m",
      "\u001b[0;31mCalledProcessError\u001b[0m                        Traceback (most recent call last)",
      "Cell \u001b[0;32mIn[13], line 23\u001b[0m\n\u001b[1;32m     20\u001b[0m subprocess\u001b[38;5;241m.\u001b[39mrun([\u001b[38;5;124m'\u001b[39m\u001b[38;5;124mdocker\u001b[39m\u001b[38;5;124m'\u001b[39m, \u001b[38;5;124m'\u001b[39m\u001b[38;5;124mlogin\u001b[39m\u001b[38;5;124m'\u001b[39m, \u001b[38;5;124m'\u001b[39m\u001b[38;5;124m-u\u001b[39m\u001b[38;5;124m'\u001b[39m, username, \u001b[38;5;124m'\u001b[39m\u001b[38;5;124m-p\u001b[39m\u001b[38;5;124m'\u001b[39m, password, authorization_data[\u001b[38;5;124m'\u001b[39m\u001b[38;5;124mproxyEndpoint\u001b[39m\u001b[38;5;124m'\u001b[39m]])\n\u001b[1;32m     22\u001b[0m \u001b[38;5;66;03m# Push the Docker image to the ECR repository\u001b[39;00m\n\u001b[0;32m---> 23\u001b[0m \u001b[43msubprocess\u001b[49m\u001b[38;5;241;43m.\u001b[39;49m\u001b[43mrun\u001b[49m\u001b[43m(\u001b[49m\u001b[43m[\u001b[49m\u001b[38;5;124;43m'\u001b[39;49m\u001b[38;5;124;43mdocker\u001b[39;49m\u001b[38;5;124;43m'\u001b[39;49m\u001b[43m,\u001b[49m\u001b[43m \u001b[49m\u001b[38;5;124;43m'\u001b[39;49m\u001b[38;5;124;43mtag\u001b[39;49m\u001b[38;5;124;43m'\u001b[39;49m\u001b[43m,\u001b[49m\u001b[43m \u001b[49m\u001b[43mimage_name\u001b[49m\u001b[43m,\u001b[49m\u001b[43m \u001b[49m\u001b[43mecr_repository_uri\u001b[49m\u001b[43m]\u001b[49m\u001b[43m,\u001b[49m\u001b[43m \u001b[49m\u001b[43mcheck\u001b[49m\u001b[38;5;241;43m=\u001b[39;49m\u001b[38;5;28;43;01mTrue\u001b[39;49;00m\u001b[43m)\u001b[49m\n\u001b[1;32m     24\u001b[0m subprocess\u001b[38;5;241m.\u001b[39mrun([\u001b[38;5;124m'\u001b[39m\u001b[38;5;124mdocker\u001b[39m\u001b[38;5;124m'\u001b[39m, \u001b[38;5;124m'\u001b[39m\u001b[38;5;124mpush\u001b[39m\u001b[38;5;124m'\u001b[39m, ecr_repository_uri], check\u001b[38;5;241m=\u001b[39m\u001b[38;5;28;01mTrue\u001b[39;00m)\n\u001b[1;32m     26\u001b[0m \u001b[38;5;28mprint\u001b[39m(\u001b[38;5;124mf\u001b[39m\u001b[38;5;124m\"\u001b[39m\u001b[38;5;124mPushed Docker image to ECR repository: \u001b[39m\u001b[38;5;132;01m{\u001b[39;00mecr_repository_uri\u001b[38;5;132;01m}\u001b[39;00m\u001b[38;5;124m\"\u001b[39m)\n",
      "File \u001b[0;32m~/anaconda3/envs/lab2/lib/python3.9/subprocess.py:528\u001b[0m, in \u001b[0;36mrun\u001b[0;34m(input, capture_output, timeout, check, *popenargs, **kwargs)\u001b[0m\n\u001b[1;32m    526\u001b[0m     retcode \u001b[38;5;241m=\u001b[39m process\u001b[38;5;241m.\u001b[39mpoll()\n\u001b[1;32m    527\u001b[0m     \u001b[38;5;28;01mif\u001b[39;00m check \u001b[38;5;129;01mand\u001b[39;00m retcode:\n\u001b[0;32m--> 528\u001b[0m         \u001b[38;5;28;01mraise\u001b[39;00m CalledProcessError(retcode, process\u001b[38;5;241m.\u001b[39margs,\n\u001b[1;32m    529\u001b[0m                                  output\u001b[38;5;241m=\u001b[39mstdout, stderr\u001b[38;5;241m=\u001b[39mstderr)\n\u001b[1;32m    530\u001b[0m \u001b[38;5;28;01mreturn\u001b[39;00m CompletedProcess(process\u001b[38;5;241m.\u001b[39margs, retcode, stdout, stderr)\n",
      "\u001b[0;31mCalledProcessError\u001b[0m: Command '['docker', 'tag', 'my-ecs-repoo:latest', '175054333530.dkr.ecr.us-east-1.amazonaws.com/my-ecs-repoo']' returned non-zero exit status 1."
     ]
    }
   ],
   "source": [
    "# Build and push the Docker image\n",
    "image_name = f'{repository_name}:latest'\n",
    "dockerfile_path = '/home/altaf/Desktop/AWS_ML_SERVING/worker/dockerfile'  # Replace with the path to your Dockerfile\n",
    "ecr_repository_uri = response['repository']['repositoryUri']\n",
    "\n",
    "# Build the Docker image\n",
    "#subprocess.run(['docker', 'build', '-t', image_name, '-f', dockerfile_path, '.'], check=True)\n",
    "\n",
    "# Authenticate Docker to the Amazon ECR registry\n",
    "\n",
    "# Get an authentication token for ECR\n",
    "token = ecs_client.get_authorization_token()\n",
    "authorization_data = token['authorizationData'][0]\n",
    "\n",
    "# Extract the username and password from the base64-encoded token\n",
    "token_payload = base64.b64decode(authorization_data['authorizationToken']).decode()\n",
    "username, password = token_payload.split(\":\")\n",
    "\n",
    "# Log in to ECR using the obtained credentials\n",
    "subprocess.run(['docker', 'login', '-u', username, '-p', password, authorization_data['proxyEndpoint']])\n",
    "\n",
    "# Push the Docker image to the ECR repository\n",
    "subprocess.run(['docker', 'tag', 'worker-app', ecr_repository_uri], check=True)\n",
    "subprocess.run(['docker', 'push', ecr_repository_uri], check=True)\n",
    "\n",
    "print(f\"Pushed Docker image to ECR repository: {ecr_repository_uri}\")\n",
    "\n",
    "\n"
   ]
  },
  {
   "cell_type": "code",
   "execution_count": 4,
   "metadata": {},
   "outputs": [
    {
     "ename": "AttributeError",
     "evalue": "<botocore.errorfactory.ECSExceptions object at 0x7f85218e1640> object has no attribute RepositoryAlreadyExistsException. Valid exceptions are: AccessDeniedException, AttributeLimitExceededException, BlockedException, ClientException, ClusterContainsContainerInstancesException, ClusterContainsServicesException, ClusterContainsTasksException, ClusterNotFoundException, InvalidParameterException, LimitExceededException, MissingVersionException, NamespaceNotFoundException, NoUpdateAvailableException, PlatformTaskDefinitionIncompatibilityException, PlatformUnknownException, ResourceInUseException, ResourceNotFoundException, ServerException, ServiceNotActiveException, ServiceNotFoundException, TargetNotConnectedException, TargetNotFoundException, TaskSetNotFoundException, UnsupportedFeatureException, UpdateInProgressException",
     "output_type": "error",
     "traceback": [
      "\u001b[0;31m---------------------------------------------------------------------------\u001b[0m",
      "\u001b[0;31mAttributeError\u001b[0m                            Traceback (most recent call last)",
      "Cell \u001b[0;32mIn[4], line 14\u001b[0m\n\u001b[1;32m     13\u001b[0m \u001b[38;5;28;01mtry\u001b[39;00m:\n\u001b[0;32m---> 14\u001b[0m     response \u001b[38;5;241m=\u001b[39m \u001b[43mecs_client\u001b[49m\u001b[38;5;241;43m.\u001b[39;49m\u001b[43mcreate_repository\u001b[49m(repositoryName\u001b[38;5;241m=\u001b[39mrepository_name)\n\u001b[1;32m     15\u001b[0m     \u001b[38;5;28mprint\u001b[39m(\u001b[38;5;124mf\u001b[39m\u001b[38;5;124m\"\u001b[39m\u001b[38;5;124mCreated ECS repository: \u001b[39m\u001b[38;5;132;01m{\u001b[39;00mrepository_name\u001b[38;5;132;01m}\u001b[39;00m\u001b[38;5;124m\"\u001b[39m)\n",
      "File \u001b[0;32m~/anaconda3/envs/lab2/lib/python3.9/site-packages/botocore/client.py:888\u001b[0m, in \u001b[0;36mBaseClient.__getattr__\u001b[0;34m(self, item)\u001b[0m\n\u001b[1;32m    886\u001b[0m     \u001b[38;5;28;01mreturn\u001b[39;00m event_response\n\u001b[0;32m--> 888\u001b[0m \u001b[38;5;28;01mraise\u001b[39;00m \u001b[38;5;167;01mAttributeError\u001b[39;00m(\n\u001b[1;32m    889\u001b[0m     \u001b[38;5;124mf\u001b[39m\u001b[38;5;124m\"\u001b[39m\u001b[38;5;124m'\u001b[39m\u001b[38;5;132;01m{\u001b[39;00m\u001b[38;5;28mself\u001b[39m\u001b[38;5;241m.\u001b[39m\u001b[38;5;18m__class__\u001b[39m\u001b[38;5;241m.\u001b[39m\u001b[38;5;18m__name__\u001b[39m\u001b[38;5;132;01m}\u001b[39;00m\u001b[38;5;124m'\u001b[39m\u001b[38;5;124m object has no attribute \u001b[39m\u001b[38;5;124m'\u001b[39m\u001b[38;5;132;01m{\u001b[39;00mitem\u001b[38;5;132;01m}\u001b[39;00m\u001b[38;5;124m'\u001b[39m\u001b[38;5;124m\"\u001b[39m\n\u001b[1;32m    890\u001b[0m )\n",
      "\u001b[0;31mAttributeError\u001b[0m: 'ECS' object has no attribute 'create_repository'",
      "\nDuring handling of the above exception, another exception occurred:\n",
      "\u001b[0;31mAttributeError\u001b[0m                            Traceback (most recent call last)",
      "Cell \u001b[0;32mIn[4], line 16\u001b[0m\n\u001b[1;32m     14\u001b[0m     response \u001b[38;5;241m=\u001b[39m ecs_client\u001b[38;5;241m.\u001b[39mcreate_repository(repositoryName\u001b[38;5;241m=\u001b[39mrepository_name)\n\u001b[1;32m     15\u001b[0m     \u001b[38;5;28mprint\u001b[39m(\u001b[38;5;124mf\u001b[39m\u001b[38;5;124m\"\u001b[39m\u001b[38;5;124mCreated ECS repository: \u001b[39m\u001b[38;5;132;01m{\u001b[39;00mrepository_name\u001b[38;5;132;01m}\u001b[39;00m\u001b[38;5;124m\"\u001b[39m)\n\u001b[0;32m---> 16\u001b[0m \u001b[38;5;28;01mexcept\u001b[39;00m \u001b[43mecs_client\u001b[49m\u001b[38;5;241;43m.\u001b[39;49m\u001b[43mexceptions\u001b[49m\u001b[38;5;241;43m.\u001b[39;49m\u001b[43mRepositoryAlreadyExistsException\u001b[49m:\n\u001b[1;32m     17\u001b[0m     \u001b[38;5;28mprint\u001b[39m(\u001b[38;5;124mf\u001b[39m\u001b[38;5;124m\"\u001b[39m\u001b[38;5;124mECS repository \u001b[39m\u001b[38;5;132;01m{\u001b[39;00mrepository_name\u001b[38;5;132;01m}\u001b[39;00m\u001b[38;5;124m already exists.\u001b[39m\u001b[38;5;124m\"\u001b[39m)\n\u001b[1;32m     18\u001b[0m \u001b[38;5;28;01mexcept\u001b[39;00m \u001b[38;5;167;01mException\u001b[39;00m \u001b[38;5;28;01mas\u001b[39;00m e:\n",
      "File \u001b[0;32m~/anaconda3/envs/lab2/lib/python3.9/site-packages/botocore/errorfactory.py:51\u001b[0m, in \u001b[0;36mBaseClientExceptions.__getattr__\u001b[0;34m(self, name)\u001b[0m\n\u001b[1;32m     46\u001b[0m \u001b[38;5;28;01mdef\u001b[39;00m \u001b[38;5;21m__getattr__\u001b[39m(\u001b[38;5;28mself\u001b[39m, name):\n\u001b[1;32m     47\u001b[0m     exception_cls_names \u001b[38;5;241m=\u001b[39m [\n\u001b[1;32m     48\u001b[0m         exception_cls\u001b[38;5;241m.\u001b[39m\u001b[38;5;18m__name__\u001b[39m\n\u001b[1;32m     49\u001b[0m         \u001b[38;5;28;01mfor\u001b[39;00m exception_cls \u001b[38;5;129;01min\u001b[39;00m \u001b[38;5;28mself\u001b[39m\u001b[38;5;241m.\u001b[39m_code_to_exception\u001b[38;5;241m.\u001b[39mvalues()\n\u001b[1;32m     50\u001b[0m     ]\n\u001b[0;32m---> 51\u001b[0m     \u001b[38;5;28;01mraise\u001b[39;00m \u001b[38;5;167;01mAttributeError\u001b[39;00m(\n\u001b[1;32m     52\u001b[0m         \u001b[38;5;124mfr\u001b[39m\u001b[38;5;124m\"\u001b[39m\u001b[38;5;132;01m{\u001b[39;00m\u001b[38;5;28mself\u001b[39m\u001b[38;5;132;01m}\u001b[39;00m\u001b[38;5;124m object has no attribute \u001b[39m\u001b[38;5;132;01m{\u001b[39;00mname\u001b[38;5;132;01m}\u001b[39;00m\u001b[38;5;124m. \u001b[39m\u001b[38;5;124m\"\u001b[39m\n\u001b[1;32m     53\u001b[0m         \u001b[38;5;124mfr\u001b[39m\u001b[38;5;124m\"\u001b[39m\u001b[38;5;124mValid exceptions are: \u001b[39m\u001b[38;5;132;01m{\u001b[39;00m\u001b[38;5;124m'\u001b[39m\u001b[38;5;124m, \u001b[39m\u001b[38;5;124m'\u001b[39m\u001b[38;5;241m.\u001b[39mjoin(exception_cls_names)\u001b[38;5;132;01m}\u001b[39;00m\u001b[38;5;124m\"\u001b[39m\n\u001b[1;32m     54\u001b[0m     )\n",
      "\u001b[0;31mAttributeError\u001b[0m: <botocore.errorfactory.ECSExceptions object at 0x7f85218e1640> object has no attribute RepositoryAlreadyExistsException. Valid exceptions are: AccessDeniedException, AttributeLimitExceededException, BlockedException, ClientException, ClusterContainsContainerInstancesException, ClusterContainsServicesException, ClusterContainsTasksException, ClusterNotFoundException, InvalidParameterException, LimitExceededException, MissingVersionException, NamespaceNotFoundException, NoUpdateAvailableException, PlatformTaskDefinitionIncompatibilityException, PlatformUnknownException, ResourceInUseException, ResourceNotFoundException, ServerException, ServiceNotActiveException, ServiceNotFoundException, TargetNotConnectedException, TargetNotFoundException, TaskSetNotFoundException, UnsupportedFeatureException, UpdateInProgressException"
     ]
    }
   ],
   "source": [
    "import boto3\n",
    "import os\n",
    "import subprocess\n",
    "\n",
    "\n",
    "region_name = REGION\n",
    "\n",
    "# Initialize the AWS ECS client\n",
    "ecs_client = boto3.client('ecs', region_name=region_name)\n",
    "\n",
    "# Create an ECS repository\n",
    "repository_name = 'my-ecs-repo'\n",
    "try:\n",
    "    response = ecs_client.create_repository(repositoryName=repository_name)\n",
    "    print(f\"Created ECS repository: {repository_name}\")\n",
    "except ecs_client.exceptions.RepositoryAlreadyExistsException:\n",
    "    print(f\"ECS repository {repository_name} already exists.\")\n",
    "except Exception as e:\n",
    "    print(f\"Error creating ECS repository: {e}\")\n",
    "    exit(1)\n",
    "\n",
    "# Build and push the Docker image\n",
    "image_name = f'{repository_name}:latest'\n",
    "dockerfile_path = '/home/altaf/Desktop/AWS_ML_SERVING/worker/dockerfile'  # Replace with the path to your Dockerfile\n",
    "ecs_repository_uri = response['repository']['repositoryUri']\n",
    "\n",
    "# Build the Docker image\n",
    "subprocess.run(['docker', 'build', '-t', image_name, '-f', dockerfile_path, '.'], check=True)\n",
    "\n",
    "# Authenticate Docker to the Amazon ECR registry\n",
    "subprocess.run(['aws', 'ecr', 'get-login-password', '--region', region_name], stdout=subprocess.PIPE, text=True, check=True,  shell=True)\n",
    "\n",
    "# Push the Docker image to the ECS repository\n",
    "subprocess.run(['docker', 'tag', image_name, ecs_repository_uri], check=True)\n",
    "subprocess.run(['docker', 'push', ecs_repository_uri], check=True)\n",
    "\n",
    "print(f\"Pushed Docker image to ECS repository: {ecs_repository_uri}\")\n"
   ]
  },
  {
   "cell_type": "markdown",
   "metadata": {},
   "source": []
  },
  {
   "cell_type": "markdown",
   "metadata": {},
   "source": [
    "## create infrastructure"
   ]
  },
  {
   "cell_type": "code",
   "execution_count": 2,
   "metadata": {},
   "outputs": [
    {
     "name": "stdout",
     "output_type": "stream",
     "text": [
      "Service ec2 is created\n",
      "Service iam is created\n",
      "Service codedeploy is created\n",
      "Service s3 is created\n",
      "Service sts is created\n",
      "Service ecs is created\n"
     ]
    }
   ],
   "source": [
    "ec2 = create_aws_service(service=EC2_CONFIG['service_name'],\n",
    "                             region=REGION\n",
    "                             )\n",
    "iam = create_aws_service(IAM_CONFIG['service_name'],\n",
    "                             region=REGION\n",
    ")\n",
    "\n",
    "code_deploy = create_aws_service(CODE_DEPLOY_CONFIG['service_name'],\n",
    "                             region=REGION\n",
    ")\n",
    "\n",
    "s3 = create_aws_service(S3_CONFIG['service_name'],\n",
    "                             region=REGION\n",
    ")\n",
    "sts = create_aws_service(STS_CONFIG['service_name'],\n",
    "                             region=REGION\n",
    ")\n",
    "ecs = create_aws_service(ECS_CONFIG['service_name'],\n",
    "                             region=REGION\n",
    ")"
   ]
  }
 ],
 "metadata": {
  "kernelspec": {
   "display_name": "Python 3.9.18 64-bit ('lab2': conda)",
   "name": "python3918jvsc74a57bd05a2dca855499b711fabfe16cc6b2efb09e291ae2a9dfb6c3cfc9eef381f49426"
  },
  "language_info": {
   "codemirror_mode": {
    "name": "ipython",
    "version": 3
   },
   "file_extension": ".py",
   "mimetype": "text/x-python",
   "name": "python",
   "nbconvert_exporter": "python",
   "pygments_lexer": "ipython3",
   "version": "3.9.18"
  },
  "orig_nbformat": 2
 },
 "nbformat": 4,
 "nbformat_minor": 2
}